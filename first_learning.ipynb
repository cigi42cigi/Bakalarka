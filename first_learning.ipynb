{
 "cells": [
  {
   "cell_type": "code",
   "execution_count": 1,
   "id": "e9f2d04e",
   "metadata": {},
   "outputs": [
    {
     "name": "stdout",
     "output_type": "stream",
     "text": [
      "Librosa version: 0.11.0\n",
      "Numpy version: 2.1.3\n",
      "Pandas version: 2.2.3\n"
     ]
    }
   ],
   "source": [
    "import numpy as np\n",
    "import librosa\n",
    "import pandas as pd\n",
    "import os\n",
    "import freesound\n",
    "\n",
    "print(\"Librosa version:\", librosa.__version__)\n",
    "print(\"Numpy version:\", np.__version__)\n",
    "print(\"Pandas version:\", pd.__version__)\n",
    "#print(freesound.__version__)"
   ]
  },
  {
   "cell_type": "code",
   "execution_count": 2,
   "id": "ffcff4b7",
   "metadata": {},
   "outputs": [
    {
     "name": "stderr",
     "output_type": "stream",
     "text": [
      "INFO: Downloading ['all', 'index']. Index is being stored in /home/cigi/.local/lib/python3.10/site-packages/soundata/datasets/indexes, and the rest of files in /home/cigi/sound_datasets/urbansound8k\n",
      "INFO: [all] downloading UrbanSound8K.tar.gz\n"
     ]
    },
    {
     "name": "stdout",
     "output_type": "stream",
     "text": [
      "📦 Kontroluji dataset...\n"
     ]
    },
    {
     "name": "stderr",
     "output_type": "stream",
     "text": [
      "5.61GB [34:57, 2.87MB/s]                               \n",
      "INFO: [index] downloading urbansound8k_index_1.0.json\n",
      "1.15MB [00:01, 1.15MB/s]                            \n",
      "100%|██████████| 1/1 [00:00<00:00, 916.99it/s]\n",
      "100%|██████████| 8732/8732 [00:14<00:00, 610.71it/s]\n",
      "INFO: Success: the dataset is complete and all files are valid.\n",
      "INFO: --------------------\n"
     ]
    },
    {
     "name": "stdout",
     "output_type": "stream",
     "text": [
      "🔍 V databázi je 8732 klipů.\n"
     ]
    }
   ],
   "source": [
    "import soundata\n",
    "\n",
    "# Inicializace datasetu\n",
    "dataset = soundata.initialize(\"urbansound8k\")\n",
    "\n",
    "# Stáhne dataset, pokud ještě není\n",
    "print(\"📦 Kontroluji dataset...\")\n",
    "dataset.download()  \n",
    "\n",
    "# Načte metadata\n",
    "dataset.validate()\n",
    "clip_ids = dataset.clip_ids\n",
    "\n",
    "print(f\"🔍 V databázi je {len(clip_ids)} klipů.\")"
   ]
  },
  {
   "cell_type": "code",
   "execution_count": null,
   "id": "8b58fbd3",
   "metadata": {},
   "outputs": [],
   "source": [
    "# API Klíč\n",
    "API_KEY = \"VV7pMu2KzRHPQkBZAFeSg96sH4hPdHi6OMryNnCc\""
   ]
  },
  {
   "cell_type": "code",
   "execution_count": null,
   "id": "478337c2",
   "metadata": {},
   "outputs": [],
   "source": [
    "import freesound\n",
    "import os\n",
    "\n",
    "API_KEY = \"VV7pMu2KzRHPQkBZAFeSg96sH4hPdHi6OMryNnCc\"\n",
    "\n",
    "client = freesound.FreesoundClient()\n",
    "client.set_token(API_KEY, \"token\")\n",
    "\n",
    "# Výstupní složka\n",
    "os.makedirs(\"freesound_gunshots\", exist_ok=True)\n",
    "\n",
    "#  Vyhledání gunshot zvuků (s výpisem)\n",
    "print(\"🔍 Hledám zvuky 'gunshot' s licencí CC0...\")\n",
    "results = list(client.text_search(\n",
    "    query=\"gunshot\",\n",
    "    filter=\"license:cc-by OR license:cc0\",\n",
    "    fields=\"id,name,previews,license\",\n",
    "    page_size=20,\n",
    "    sort=\"score\"\n",
    "))\n",
    "\n",
    "#  Výpis výsledků\n",
    "print(f\"\\n🧾 Nalezeno {len(results)} výsledků:\\n\")\n",
    "\n",
    "for i, sound in enumerate(results):\n",
    "    print(f\"[{i+1}] {sound.name} | ID: {sound.id} | Licence: {sound.license}\")\n",
    "\n",
    "if len(results) == 0:\n",
    "    print(\"⚠️ Žádné výsledky nenalezeny! Zkus jiný dotaz nebo zkontroluj API klíč.\")\n",
    "    exit()\n",
    "\n",
    "#  Stažení zvuků\n",
    "print(\"\\n📥 Spouštím stahování zvuků...\")\n",
    "for i, sound in enumerate(results):\n",
    "    safe_name = f\"{sound.id}_{sound.name.replace(' ', '_')}.mp3\"\n",
    "    path = os.path.join(\"freesound_gunshots\", safe_name)\n",
    "    print(f\"[{i+1}] ⬇️ Stahuji: {safe_name}\")\n",
    "    try:\n",
    "        sound.retrieve_preview(path)\n",
    "    except Exception as e:\n",
    "        print(f\"❌ Chyba při stahování {safe_name}: {e}\")\n",
    "\n",
    "print(\"\\n✅ Hotovo! Zkontroluj složku 'freesound_gunshots'.\")"
   ]
  },
  {
   "cell_type": "code",
   "execution_count": null,
   "id": "6f203627",
   "metadata": {},
   "outputs": [],
   "source": [
    "#Převod na WAV\n",
    "\n",
    "\n",
    "from pydub import AudioSegment\n",
    "\n",
    "INPUT_DIR = \"freesound_gunshots\"\n",
    "OUTPUT_DIR = \"freesound_gunshots_wav\"\n",
    "os.makedirs(OUTPUT_DIR, exist_ok=True)\n",
    "\n",
    "for file in os.listdir(INPUT_DIR):\n",
    "    if file.endswith(\".mp3\"):\n",
    "        mp3_path = os.path.join(INPUT_DIR, file)\n",
    "        wav_name = os.path.splitext(file)[0] + \".wav\"\n",
    "        wav_path = os.path.join(OUTPUT_DIR, wav_name)\n",
    "\n",
    "        try:\n",
    "            sound = AudioSegment.from_mp3(mp3_path)\n",
    "            sound.export(wav_path, format=\"wav\")\n",
    "            print(f\"✅ {file} → {wav_name}\")\n",
    "        except Exception as e:\n",
    "            print(f\"❌ Chyba u {file}: {e}\")\n",
    "\n",
    "print(\"🎉 Všechny soubory převedeny do WAV!\")"
   ]
  },
  {
   "cell_type": "code",
   "execution_count": null,
   "id": "a0254c7e",
   "metadata": {},
   "outputs": [
    {
     "name": "stdout",
     "output_type": "stream",
     "text": [
      "✅ Dataset hotový: (5503, 13) (5503,)\n"
     ]
    }
   ],
   "source": [
    "def extract_mfcc(path, n_mfcc=13, duration=4.0, sr=22050):\n",
    "    y, _ = librosa.load(path, sr=sr, duration=duration)\n",
    "    mfcc = librosa.feature.mfcc(y=y, sr=sr, n_mfcc=n_mfcc)\n",
    "    return np.mean(mfcc.T, axis=0)  # průměr přes časové okno\n",
    "\n",
    "# Kategorie z UrbanSound8K\n",
    "target_labels = ['gun_shot']\n",
    "negative_labels = ['children_playing', 'air_conditioner', 'dog_bark']\n",
    "\n",
    "X = []\n",
    "y = []\n",
    "\n",
    "#  1. uprava z UrbanSound8K\n",
    "for clip_id in dataset.clip_ids:\n",
    "    clip = dataset.clip(clip_id)\n",
    "    if clip.tags:\n",
    "        label = clip.tags.labels[0]\n",
    "\n",
    "        if label in target_labels + negative_labels:\n",
    "            features = extract_mfcc(clip.audio_path)\n",
    "            X.append(features)\n",
    "            y.append(1 if label == 'gun_shot' else 0)\n",
    "\n",
    "#  2. uprava z vlastních Freesound WAV souborů\n",
    "FREESOUND_WAV_DIR = \"freesound_gunshots_wav\"\n",
    "\n",
    "for filename in os.listdir(FREESOUND_WAV_DIR):\n",
    "    if filename.endswith(\".wav\"):\n",
    "        path = os.path.join(FREESOUND_WAV_DIR, filename)\n",
    "        try:\n",
    "            features = extract_mfcc(path)\n",
    "            X.append(features)\n",
    "            y.append(1)  #\n",
    "        except Exception as e:\n",
    "            print(f\"❌ Chyba při extrakci {filename}: {e}\")\n",
    "\n",
    "#  Výsledný dataset\n",
    "X = np.array(X)\n",
    "y = np.array(y)\n",
    "\n",
    "print(\"✅ Dataset hotový:\", X.shape, y.shape)"
   ]
  },
  {
   "cell_type": "code",
   "execution_count": 10,
   "id": "6a59e893",
   "metadata": {},
   "outputs": [
    {
     "name": "stdout",
     "output_type": "stream",
     "text": [
      "              precision    recall  f1-score   support\n",
      "\n",
      "           0       0.88      0.93      0.91       613\n",
      "           1       0.91      0.84      0.87       488\n",
      "\n",
      "    accuracy                           0.89      1101\n",
      "   macro avg       0.89      0.89      0.89      1101\n",
      "weighted avg       0.89      0.89      0.89      1101\n",
      "\n"
     ]
    }
   ],
   "source": [
    "from sklearn.model_selection import train_test_split\n",
    "from sklearn.ensemble import RandomForestClassifier\n",
    "from sklearn.metrics import classification_report, confusion_matrix\n",
    "\n",
    "# Rozdělení dat\n",
    "X_train, X_test, y_train, y_test = train_test_split(X, y, test_size=0.2, random_state=42)\n",
    "\n",
    "# Trénink modelu\n",
    "clf = RandomForestClassifier(n_estimators=100, random_state=42)\n",
    "clf.fit(X_train, y_train)\n",
    "\n",
    "# Vyhodnocení\n",
    "y_pred = clf.predict(X_test)\n",
    "print(classification_report(y_test, y_pred))"
   ]
  }
 ],
 "metadata": {
  "kernelspec": {
   "display_name": "Python 3",
   "language": "python",
   "name": "python3"
  },
  "language_info": {
   "codemirror_mode": {
    "name": "ipython",
    "version": 3
   },
   "file_extension": ".py",
   "mimetype": "text/x-python",
   "name": "python",
   "nbconvert_exporter": "python",
   "pygments_lexer": "ipython3",
   "version": "3.10.12"
  }
 },
 "nbformat": 4,
 "nbformat_minor": 5
}
