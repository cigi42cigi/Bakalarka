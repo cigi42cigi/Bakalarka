{
 "cells": [
  {
   "cell_type": "code",
   "execution_count": 6,
   "id": "e9f2d04e",
   "metadata": {},
   "outputs": [
    {
     "name": "stdout",
     "output_type": "stream",
     "text": [
      "Librosa version: 0.11.0\n",
      "Numpy version: 1.26.4\n",
      "Pandas version: 2.3.0\n"
     ]
    }
   ],
   "source": [
    "import numpy as np\n",
    "import librosa\n",
    "import pandas as pd\n",
    "import freesound\n",
    "\n",
    "print(\"Librosa version:\", librosa.__version__)\n",
    "print(\"Numpy version:\", np.__version__)\n",
    "print(\"Pandas version:\", pd.__version__)\n",
    "#print(freesound.__version__)"
   ]
  },
  {
   "cell_type": "code",
   "execution_count": 3,
   "id": "ffcff4b7",
   "metadata": {},
   "outputs": [
    {
     "name": "stderr",
     "output_type": "stream",
     "text": [
      "INFO: Downloading ['all', 'index']. Index is being stored in /home/cigi/soundenv/lib/python3.10/site-packages/soundata/datasets/indexes, and the rest of files in /home/cigi/sound_datasets/urbansound8k\n",
      "INFO: [all] downloading UrbanSound8K.tar.gz\n",
      "INFO: /home/cigi/sound_datasets/urbansound8k/UrbanSound8K.tar.gz already exists and will not be downloaded. Rerun with force_overwrite=True to delete this file and force the download.\n"
     ]
    },
    {
     "name": "stdout",
     "output_type": "stream",
     "text": [
      "📦 Kontroluji dataset...\n"
     ]
    },
    {
     "name": "stderr",
     "output_type": "stream",
     "text": [
      "INFO: /home/cigi/sound_datasets/urbansound8k/UrbanSound8K_README.txt already exists. Run with force_overwrite=True to download from scratch\n",
      "INFO: /home/cigi/sound_datasets/urbansound8k/audio already exists. Run with force_overwrite=True to download from scratch\n",
      "INFO: /home/cigi/sound_datasets/urbansound8k/FREESOUNDCREDITS.txt already exists. Run with force_overwrite=True to download from scratch\n",
      "INFO: /home/cigi/sound_datasets/urbansound8k/metadata already exists. Run with force_overwrite=True to download from scratch\n",
      "INFO: [index] downloading urbansound8k_index_1.0.json\n",
      "INFO: /home/cigi/soundenv/lib/python3.10/site-packages/soundata/datasets/indexes/urbansound8k_index_1.0.json already exists and will not be downloaded. Rerun with force_overwrite=True to delete this file and force the download.\n",
      "100%|██████████| 1/1 [00:00<00:00, 569.26it/s]\n",
      "100%|██████████| 8732/8732 [00:17<00:00, 502.85it/s]\n",
      "INFO: Success: the dataset is complete and all files are valid.\n",
      "INFO: --------------------\n"
     ]
    },
    {
     "name": "stdout",
     "output_type": "stream",
     "text": [
      "🔍 V databázi je 8732 klipů.\n"
     ]
    }
   ],
   "source": [
    "import soundata\n",
    "\n",
    "# Inicializace datasetu\n",
    "dataset = soundata.initialize(\"urbansound8k\")\n",
    "\n",
    "# Stáhne dataset, pokud ještě není\n",
    "print(\"📦 Kontroluji dataset...\")\n",
    "dataset.download()  \n",
    "\n",
    "# Načte metadata\n",
    "dataset.validate()\n",
    "clip_ids = dataset.clip_ids\n",
    "\n",
    "print(f\"🔍 V databázi je {len(clip_ids)} klipů.\")"
   ]
  },
  {
   "cell_type": "code",
   "execution_count": 4,
   "id": "a0254c7e",
   "metadata": {},
   "outputs": [
    {
     "name": "stdout",
     "output_type": "stream",
     "text": [
      "✅ Dataset hotový: (3374, 13) (3374,)\n"
     ]
    }
   ],
   "source": [
    "def extract_mfcc(path, n_mfcc=13, duration=4.0, sr=22050):\n",
    "    y, _ = librosa.load(path, sr=sr, duration=duration)\n",
    "    mfcc = librosa.feature.mfcc(y=y, sr=sr, n_mfcc=n_mfcc)\n",
    "    return np.mean(mfcc.T, axis=0)  # průměr přes časové okno\n",
    "\n",
    "# Kategorie\n",
    "target_labels = ['gun_shot']\n",
    "negative_labels = ['children_playing', 'air_conditioner', 'dog_bark']\n",
    "\n",
    "X = []\n",
    "y = []\n",
    "\n",
    "for clip_id in dataset.clip_ids:\n",
    "    clip = dataset.clip(clip_id)\n",
    "    if clip.tags:\n",
    "        label = clip.tags.labels[0]\n",
    "\n",
    "        if label in target_labels + negative_labels:\n",
    "            features = extract_mfcc(clip.audio_path)\n",
    "            X.append(features)\n",
    "            y.append(1 if label == 'gun_shot' else 0)\n",
    "\n",
    "X = np.array(X)\n",
    "y = np.array(y)\n",
    "\n",
    "print(\"✅ Dataset hotový:\", X.shape, y.shape)"
   ]
  },
  {
   "cell_type": "code",
   "execution_count": 2,
   "id": "8b58fbd3",
   "metadata": {},
   "outputs": [],
   "source": [
    "# 🔑 Vlož sem svůj Freesound API klíč\n",
    "API_KEY = \"VV7pMu2KzRHPQkBZAFeSg96sH4hPdHi6OMryNnCc\""
   ]
  },
  {
   "cell_type": "code",
   "execution_count": null,
   "id": "478337c2",
   "metadata": {},
   "outputs": [
    {
     "name": "stdout",
     "output_type": "stream",
     "text": [
      "🔍 Hledám zvuky 'gunshot' s licencí CC0...\n",
      "\n",
      "🧾 Nalezeno 0 výsledků:\n",
      "\n",
      "⚠️ Žádné výsledky nenalezeny! Zkus jiný dotaz nebo zkontroluj API klíč.\n",
      "\n",
      "📥 Spouštím stahování zvuků...\n",
      "\n",
      "✅ Hotovo! Zkontroluj složku 'freesound_gunshots'.\n"
     ]
    },
    {
     "ename": "",
     "evalue": "",
     "output_type": "error",
     "traceback": [
      "\u001b[1;31mThe Kernel crashed while executing code in the current cell or a previous cell. \n",
      "\u001b[1;31mPlease review the code in the cell(s) to identify a possible cause of the failure. \n",
      "\u001b[1;31mClick <a href='https://aka.ms/vscodeJupyterKernelCrash'>here</a> for more info. \n",
      "\u001b[1;31mView Jupyter <a href='command:jupyter.viewOutput'>log</a> for further details."
     ]
    }
   ],
   "source": [
    "import freesound\n",
    "import os\n",
    "\n",
    "API_KEY = \"VV7pMu2KzRHPQkBZAFeSg96sH4hPdHi6OMryNnCc\"\n",
    "\n",
    "client = freesound.FreesoundClient()\n",
    "client.set_token(API_KEY, \"token\")\n",
    "\n",
    "# Výstupní složka\n",
    "os.makedirs(\"freesound_gunshots\", exist_ok=True)\n",
    "\n",
    "# 🔎 Vyhledání gunshot zvuků (s výpisem)\n",
    "print(\"🔍 Hledám zvuky 'gunshot' s licencí CC0...\")\n",
    "results = list(client.text_search(\n",
    "    query=\"gunshot\",\n",
    "    filter=\"license:cc-by OR license:cc0\",\n",
    "    fields=\"id,name,previews,license\",\n",
    "    page_size=20,\n",
    "    sort=\"score\"\n",
    "))\n",
    "\n",
    "# ✅ Výpis výsledků\n",
    "print(f\"\\n🧾 Nalezeno {len(results)} výsledků:\\n\")\n",
    "\n",
    "for i, sound in enumerate(results):\n",
    "    print(f\"[{i+1}] {sound.name} | ID: {sound.id} | Licence: {sound.license}\")\n",
    "\n",
    "if len(results) == 0:\n",
    "    print(\"⚠️ Žádné výsledky nenalezeny! Zkus jiný dotaz nebo zkontroluj API klíč.\")\n",
    "    exit()\n",
    "\n",
    "# ⬇️ Stažení zvuků\n",
    "print(\"\\n📥 Spouštím stahování zvuků...\")\n",
    "for i, sound in enumerate(results):\n",
    "    safe_name = f\"{sound.id}_{sound.name.replace(' ', '_')}.mp3\"\n",
    "    path = os.path.join(\"freesound_gunshots\", safe_name)\n",
    "    print(f\"[{i+1}] ⬇️ Stahuji: {safe_name}\")\n",
    "    try:\n",
    "        sound.retrieve_preview(path)\n",
    "    except Exception as e:\n",
    "        print(f\"❌ Chyba při stahování {safe_name}: {e}\")\n",
    "\n",
    "print(\"\\n✅ Hotovo! Zkontroluj složku 'freesound_gunshots'.\")"
   ]
  },
  {
   "cell_type": "code",
   "execution_count": 5,
   "id": "6a59e893",
   "metadata": {},
   "outputs": [
    {
     "name": "stdout",
     "output_type": "stream",
     "text": [
      "              precision    recall  f1-score   support\n",
      "\n",
      "           0       0.97      0.99      0.98       612\n",
      "           1       0.92      0.71      0.80        63\n",
      "\n",
      "    accuracy                           0.97       675\n",
      "   macro avg       0.94      0.85      0.89       675\n",
      "weighted avg       0.97      0.97      0.97       675\n",
      "\n"
     ]
    }
   ],
   "source": [
    "from sklearn.model_selection import train_test_split\n",
    "from sklearn.ensemble import RandomForestClassifier\n",
    "from sklearn.metrics import classification_report, confusion_matrix\n",
    "\n",
    "# Rozdělení dat\n",
    "X_train, X_test, y_train, y_test = train_test_split(X, y, test_size=0.2, random_state=42)\n",
    "\n",
    "# Trénink modelu\n",
    "clf = RandomForestClassifier(n_estimators=100, random_state=42)\n",
    "clf.fit(X_train, y_train)\n",
    "\n",
    "# Vyhodnocení\n",
    "y_pred = clf.predict(X_test)\n",
    "print(classification_report(y_test, y_pred))"
   ]
  }
 ],
 "metadata": {
  "kernelspec": {
   "display_name": "Python (soundenv)",
   "language": "python",
   "name": "soundenv"
  },
  "language_info": {
   "codemirror_mode": {
    "name": "ipython",
    "version": 3
   },
   "file_extension": ".py",
   "mimetype": "text/x-python",
   "name": "python",
   "nbconvert_exporter": "python",
   "pygments_lexer": "ipython3",
   "version": "3.10.18"
  }
 },
 "nbformat": 4,
 "nbformat_minor": 5
}
